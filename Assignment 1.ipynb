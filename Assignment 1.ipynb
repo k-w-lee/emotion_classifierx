{
 "cells": [
  {
   "cell_type": "code",
   "execution_count": 1,
   "metadata": {},
   "outputs": [],
   "source": [
    "import os\n",
    "import numpy as np\n",
    "import matplotlib.pyplot as plt\n",
    "import pandas as pd\n",
    "from sklearn.model_selection import train_test_split\n",
    "from sklearn.model_selection import GridSearchCV\n",
    "from sklearn.model_selection import cross_val_score\n",
    "from sklearn.svm import SVC\n",
    "from sklearn.preprocessing import LabelEncoder\n",
    "from sklearn.metrics import accuracy_score, precision_score, recall_score, f1_score, average_precision_score\n",
    "from sklearn.preprocessing import StandardScaler\n",
    "from sklearn.neighbors import KNeighborsClassifier\n",
    "from sklearn.tree import DecisionTreeClassifier\n",
    "from sklearn.dummy import DummyClassifier\n",
    "from sklearn.ensemble import RandomForestClassifier\n",
    "os.getcwd()\n",
    "# Set path for new working directory\n",
    "path = \"C:/Users/Lee Kah Win/Desktop/Master DS Subjects/CDS503 - Machine Learning/Assignment 1/Assignment 1 Data\"\n",
    "os.chdir(path)"
   ]
  },
  {
   "cell_type": "code",
   "execution_count": 2,
   "metadata": {},
   "outputs": [
    {
     "name": "stdout",
     "output_type": "stream",
     "text": [
      "<class 'pandas.core.frame.DataFrame'>\n",
      "RangeIndex: 256 entries, 0 to 255\n",
      "Data columns (total 11 columns):\n",
      " #   Column            Non-Null Count  Dtype  \n",
      "---  ------            --------------  -----  \n",
      " 0   Gender            256 non-null    object \n",
      " 1   Emotion_Joy       256 non-null    int64  \n",
      " 2   Emotion_Sadness   256 non-null    int64  \n",
      " 3   Emotion_Anger     256 non-null    int64  \n",
      " 4   Emotion_Disgust   256 non-null    int64  \n",
      " 5   Emotion_Fear      256 non-null    int64  \n",
      " 6   Emotion_Surprise  256 non-null    int64  \n",
      " 7   Emotion_Contempt  256 non-null    int64  \n",
      " 8   Emotion_Neutral   256 non-null    int64  \n",
      " 9   Depression        256 non-null    object \n",
      " 10  Unnamed: 10       0 non-null      float64\n",
      "dtypes: float64(1), int64(8), object(2)\n",
      "memory usage: 22.1+ KB\n",
      "<class 'pandas.core.frame.DataFrame'>\n",
      "RangeIndex: 256 entries, 0 to 255\n",
      "Data columns (total 10 columns):\n",
      " #   Column            Non-Null Count  Dtype  \n",
      "---  ------            --------------  -----  \n",
      " 0   Gender            256 non-null    object \n",
      " 1   Emotion_Joy       256 non-null    float64\n",
      " 2   Emotion_Sadness   256 non-null    float64\n",
      " 3   Emotion_Anger     256 non-null    float64\n",
      " 4   Emotion_Disgust   256 non-null    float64\n",
      " 5   Emotion_Fear      256 non-null    float64\n",
      " 6   Emotion_Surprise  256 non-null    float64\n",
      " 7   Emotion_Contempt  256 non-null    float64\n",
      " 8   Emotion_Neutral   256 non-null    float64\n",
      " 9   Depression        256 non-null    object \n",
      "dtypes: float64(8), object(2)\n",
      "memory usage: 20.1+ KB\n"
     ]
    }
   ],
   "source": [
    "df_freq = pd.read_csv(\"Freq-PHO-Binary.csv\")\n",
    "df_norm = pd.read_csv(\"Norm-PHO-Binary.csv\")\n",
    "df_freq.info()\n",
    "df_norm.info()"
   ]
  },
  {
   "cell_type": "code",
   "execution_count": 3,
   "metadata": {},
   "outputs": [
    {
     "data": {
      "text/html": [
       "<div>\n",
       "<style scoped>\n",
       "    .dataframe tbody tr th:only-of-type {\n",
       "        vertical-align: middle;\n",
       "    }\n",
       "\n",
       "    .dataframe tbody tr th {\n",
       "        vertical-align: top;\n",
       "    }\n",
       "\n",
       "    .dataframe thead th {\n",
       "        text-align: right;\n",
       "    }\n",
       "</style>\n",
       "<table border=\"1\" class=\"dataframe\">\n",
       "  <thead>\n",
       "    <tr style=\"text-align: right;\">\n",
       "      <th></th>\n",
       "      <th>Gender</th>\n",
       "      <th>Emotion_Joy</th>\n",
       "      <th>Emotion_Sadness</th>\n",
       "      <th>Emotion_Anger</th>\n",
       "      <th>Emotion_Disgust</th>\n",
       "      <th>Emotion_Fear</th>\n",
       "      <th>Emotion_Surprise</th>\n",
       "      <th>Emotion_Contempt</th>\n",
       "      <th>Emotion_Neutral</th>\n",
       "      <th>Depression</th>\n",
       "    </tr>\n",
       "  </thead>\n",
       "  <tbody>\n",
       "    <tr>\n",
       "      <th>0</th>\n",
       "      <td>Female</td>\n",
       "      <td>4</td>\n",
       "      <td>3</td>\n",
       "      <td>2</td>\n",
       "      <td>1</td>\n",
       "      <td>0</td>\n",
       "      <td>2</td>\n",
       "      <td>2</td>\n",
       "      <td>1</td>\n",
       "      <td>NO</td>\n",
       "    </tr>\n",
       "    <tr>\n",
       "      <th>1</th>\n",
       "      <td>Female</td>\n",
       "      <td>8</td>\n",
       "      <td>0</td>\n",
       "      <td>2</td>\n",
       "      <td>0</td>\n",
       "      <td>1</td>\n",
       "      <td>0</td>\n",
       "      <td>0</td>\n",
       "      <td>4</td>\n",
       "      <td>NO</td>\n",
       "    </tr>\n",
       "    <tr>\n",
       "      <th>2</th>\n",
       "      <td>Male</td>\n",
       "      <td>5</td>\n",
       "      <td>0</td>\n",
       "      <td>0</td>\n",
       "      <td>0</td>\n",
       "      <td>14</td>\n",
       "      <td>2</td>\n",
       "      <td>0</td>\n",
       "      <td>15</td>\n",
       "      <td>NO</td>\n",
       "    </tr>\n",
       "    <tr>\n",
       "      <th>3</th>\n",
       "      <td>Male</td>\n",
       "      <td>7</td>\n",
       "      <td>0</td>\n",
       "      <td>3</td>\n",
       "      <td>0</td>\n",
       "      <td>0</td>\n",
       "      <td>5</td>\n",
       "      <td>0</td>\n",
       "      <td>0</td>\n",
       "      <td>NO</td>\n",
       "    </tr>\n",
       "    <tr>\n",
       "      <th>4</th>\n",
       "      <td>Male</td>\n",
       "      <td>3</td>\n",
       "      <td>2</td>\n",
       "      <td>1</td>\n",
       "      <td>0</td>\n",
       "      <td>2</td>\n",
       "      <td>1</td>\n",
       "      <td>0</td>\n",
       "      <td>6</td>\n",
       "      <td>YES</td>\n",
       "    </tr>\n",
       "  </tbody>\n",
       "</table>\n",
       "</div>"
      ],
      "text/plain": [
       "   Gender  Emotion_Joy  Emotion_Sadness  Emotion_Anger  Emotion_Disgust  \\\n",
       "0  Female            4                3              2                1   \n",
       "1  Female            8                0              2                0   \n",
       "2    Male            5                0              0                0   \n",
       "3    Male            7                0              3                0   \n",
       "4    Male            3                2              1                0   \n",
       "\n",
       "   Emotion_Fear  Emotion_Surprise  Emotion_Contempt  Emotion_Neutral  \\\n",
       "0             0                 2                 2                1   \n",
       "1             1                 0                 0                4   \n",
       "2            14                 2                 0               15   \n",
       "3             0                 5                 0                0   \n",
       "4             2                 1                 0                6   \n",
       "\n",
       "  Depression  \n",
       "0         NO  \n",
       "1         NO  \n",
       "2         NO  \n",
       "3         NO  \n",
       "4        YES  "
      ]
     },
     "execution_count": 3,
     "metadata": {},
     "output_type": "execute_result"
    }
   ],
   "source": [
    "df_freq = df_freq.drop(['Unnamed: 10'], axis=1)\n",
    "df_freq.head()"
   ]
  },
  {
   "cell_type": "code",
   "execution_count": 4,
   "metadata": {},
   "outputs": [
    {
     "data": {
      "text/html": [
       "<div>\n",
       "<style scoped>\n",
       "    .dataframe tbody tr th:only-of-type {\n",
       "        vertical-align: middle;\n",
       "    }\n",
       "\n",
       "    .dataframe tbody tr th {\n",
       "        vertical-align: top;\n",
       "    }\n",
       "\n",
       "    .dataframe thead th {\n",
       "        text-align: right;\n",
       "    }\n",
       "</style>\n",
       "<table border=\"1\" class=\"dataframe\">\n",
       "  <thead>\n",
       "    <tr style=\"text-align: right;\">\n",
       "      <th></th>\n",
       "      <th>Gender</th>\n",
       "      <th>Emotion_Joy</th>\n",
       "      <th>Emotion_Sadness</th>\n",
       "      <th>Emotion_Anger</th>\n",
       "      <th>Emotion_Disgust</th>\n",
       "      <th>Emotion_Fear</th>\n",
       "      <th>Emotion_Surprise</th>\n",
       "      <th>Emotion_Contempt</th>\n",
       "      <th>Emotion_Neutral</th>\n",
       "      <th>Depression</th>\n",
       "    </tr>\n",
       "  </thead>\n",
       "  <tbody>\n",
       "    <tr>\n",
       "      <th>0</th>\n",
       "      <td>Female</td>\n",
       "      <td>4.00</td>\n",
       "      <td>3.0</td>\n",
       "      <td>2.0</td>\n",
       "      <td>1.0</td>\n",
       "      <td>0.00</td>\n",
       "      <td>2.00</td>\n",
       "      <td>2.0</td>\n",
       "      <td>1.0</td>\n",
       "      <td>NO</td>\n",
       "    </tr>\n",
       "    <tr>\n",
       "      <th>1</th>\n",
       "      <td>Female</td>\n",
       "      <td>8.00</td>\n",
       "      <td>0.0</td>\n",
       "      <td>2.0</td>\n",
       "      <td>0.0</td>\n",
       "      <td>1.00</td>\n",
       "      <td>0.00</td>\n",
       "      <td>0.0</td>\n",
       "      <td>4.0</td>\n",
       "      <td>NO</td>\n",
       "    </tr>\n",
       "    <tr>\n",
       "      <th>2</th>\n",
       "      <td>Male</td>\n",
       "      <td>1.67</td>\n",
       "      <td>0.0</td>\n",
       "      <td>0.0</td>\n",
       "      <td>0.0</td>\n",
       "      <td>6.17</td>\n",
       "      <td>0.67</td>\n",
       "      <td>0.0</td>\n",
       "      <td>6.5</td>\n",
       "      <td>NO</td>\n",
       "    </tr>\n",
       "    <tr>\n",
       "      <th>3</th>\n",
       "      <td>Male</td>\n",
       "      <td>7.00</td>\n",
       "      <td>0.0</td>\n",
       "      <td>3.0</td>\n",
       "      <td>0.0</td>\n",
       "      <td>0.00</td>\n",
       "      <td>5.00</td>\n",
       "      <td>0.0</td>\n",
       "      <td>0.0</td>\n",
       "      <td>NO</td>\n",
       "    </tr>\n",
       "    <tr>\n",
       "      <th>4</th>\n",
       "      <td>Male</td>\n",
       "      <td>3.00</td>\n",
       "      <td>2.0</td>\n",
       "      <td>1.0</td>\n",
       "      <td>0.0</td>\n",
       "      <td>2.00</td>\n",
       "      <td>1.00</td>\n",
       "      <td>0.0</td>\n",
       "      <td>6.0</td>\n",
       "      <td>YES</td>\n",
       "    </tr>\n",
       "  </tbody>\n",
       "</table>\n",
       "</div>"
      ],
      "text/plain": [
       "   Gender  Emotion_Joy  Emotion_Sadness  Emotion_Anger  Emotion_Disgust  \\\n",
       "0  Female         4.00              3.0            2.0              1.0   \n",
       "1  Female         8.00              0.0            2.0              0.0   \n",
       "2    Male         1.67              0.0            0.0              0.0   \n",
       "3    Male         7.00              0.0            3.0              0.0   \n",
       "4    Male         3.00              2.0            1.0              0.0   \n",
       "\n",
       "   Emotion_Fear  Emotion_Surprise  Emotion_Contempt  Emotion_Neutral  \\\n",
       "0          0.00              2.00               2.0              1.0   \n",
       "1          1.00              0.00               0.0              4.0   \n",
       "2          6.17              0.67               0.0              6.5   \n",
       "3          0.00              5.00               0.0              0.0   \n",
       "4          2.00              1.00               0.0              6.0   \n",
       "\n",
       "  Depression  \n",
       "0         NO  \n",
       "1         NO  \n",
       "2         NO  \n",
       "3         NO  \n",
       "4        YES  "
      ]
     },
     "execution_count": 4,
     "metadata": {},
     "output_type": "execute_result"
    }
   ],
   "source": [
    "df_norm.head()"
   ]
  },
  {
   "cell_type": "code",
   "execution_count": 5,
   "metadata": {},
   "outputs": [
    {
     "name": "stdout",
     "output_type": "stream",
     "text": [
      "NO     137\n",
      "YES    119\n",
      "Name: Depression, dtype: int64\n",
      "NO     137\n",
      "YES    119\n",
      "Name: Depression, dtype: int64\n"
     ]
    }
   ],
   "source": [
    "print(df_norm['Depression'].value_counts())\n",
    "print(df_freq['Depression'].value_counts())"
   ]
  },
  {
   "cell_type": "code",
   "execution_count": 6,
   "metadata": {},
   "outputs": [
    {
     "data": {
      "text/plain": [
       "<matplotlib.axes._subplots.AxesSubplot at 0x21cb099a248>"
      ]
     },
     "execution_count": 6,
     "metadata": {},
     "output_type": "execute_result"
    },
    {
     "data": {
      "image/png": "[encoded data removed]",
      "text/plain": [
       "<Figure size 432x288 with 1 Axes>"
      ]
     },
     "metadata": {},
     "output_type": "display_data"
    }
   ],
   "source": [
    "plt.style.use(\"fivethirtyeight\")\n",
    "df_freq.Depression.value_counts().plot(kind='bar', title='Freq-PHO-Binary Depression Distribution')"
   ]
  },
  {
   "cell_type": "code",
   "execution_count": 7,
   "metadata": {},
   "outputs": [
    {
     "data": {
      "text/plain": [
       "<matplotlib.axes._subplots.AxesSubplot at 0x21cb06a3348>"
      ]
     },
     "execution_count": 7,
     "metadata": {},
     "output_type": "execute_result"
    },
    {
     "data": {
      "image/png": "[encoded data removed]",
      "text/plain": [
       "<Figure size 432x288 with 1 Axes>"
      ]
     },
     "metadata": {},
     "output_type": "display_data"
    }
   ],
   "source": [
    "df_norm.Depression.value_counts().plot(kind='bar', title='Norm-PHO-Binary Depression Distribution')"
   ]
  },
  {
   "cell_type": "markdown",
   "metadata": {},
   "source": [
    "# To report distribution for df_norm"
   ]
  },
  {
   "cell_type": "code",
   "execution_count": 8,
   "metadata": {},
   "outputs": [
    {
     "data": {
      "text/plain": [
       "<function matplotlib.pyplot.show(*args, **kw)>"
      ]
     },
     "execution_count": 8,
     "metadata": {},
     "output_type": "execute_result"
    },
    {
     "data": {
      "image/png": "[encoded data removed]",
      "text/plain": [
       "<Figure size 432x288 with 1 Axes>"
      ]
     },
     "metadata": {},
     "output_type": "display_data"
    }
   ],
   "source": [
    "plt.style.use(\"fivethirtyeight\")\n",
    "x = df_norm['Emotion_Joy']\n",
    "plt.hist(x, bins=20, edgecolor='black')\n",
    "plt.xlabel(\"Emotion_Joy\")\n",
    "plt.ylabel('Frequency')\n",
    "plt.title(f\" Emotion_Joy Histogram Frequency Chart\")\n",
    "plt.show"
   ]
  },
  {
   "cell_type": "code",
   "execution_count": 9,
   "metadata": {},
   "outputs": [
    {
     "data": {
      "text/plain": [
       "<function matplotlib.pyplot.show(*args, **kw)>"
      ]
     },
     "execution_count": 9,
     "metadata": {},
     "output_type": "execute_result"
    },
    {
     "data": {
      "image/png": "[encoded data removed]",
      "text/plain": [
       "<Figure size 432x288 with 1 Axes>"
      ]
     },
     "metadata": {},
     "output_type": "display_data"
    }
   ],
   "source": [
    "x = df_norm['Emotion_Sadness']\n",
    "plt.hist(x, bins=20, edgecolor='black')\n",
    "plt.xlabel(\"Emotion_Sadness\")\n",
    "plt.ylabel('Frequency')\n",
    "plt.title(f\" Emotion_SadnessHistogram Frequency Chart\")\n",
    "plt.show"
   ]
  },
  {
   "cell_type": "code",
   "execution_count": 10,
   "metadata": {},
   "outputs": [
    {
     "data": {
      "text/plain": [
       "<function matplotlib.pyplot.show(*args, **kw)>"
      ]
     },
     "execution_count": 10,
     "metadata": {},
     "output_type": "execute_result"
    },
    {
     "data": {
      "image/png": "[encoded data removed]",
      "text/plain": [
       "<Figure size 432x288 with 1 Axes>"
      ]
     },
     "metadata": {},
     "output_type": "display_data"
    }
   ],
   "source": [
    "x = df_norm['Emotion_Anger']\n",
    "plt.hist(x, bins=20, edgecolor='black')\n",
    "plt.xlabel(\"Emotion_Anger\")\n",
    "plt.ylabel('Frequency')\n",
    "plt.title(f\" Emotion_Anger Histogram Frequency Chart\")\n",
    "plt.show"
   ]
  },
  {
   "cell_type": "code",
   "execution_count": 11,
   "metadata": {},
   "outputs": [
    {
     "data": {
      "text/plain": [
       "<function matplotlib.pyplot.show(*args, **kw)>"
      ]
     },
     "execution_count": 11,
     "metadata": {},
     "output_type": "execute_result"
    },
    {
     "data": {
      "image/png": "[encoded data removed]",
      "text/plain": [
       "<Figure size 432x288 with 1 Axes>"
      ]
     },
     "metadata": {},
     "output_type": "display_data"
    }
   ],
   "source": [
    "x = df_norm['Emotion_Disgust']\n",
    "plt.hist(x, bins=20, edgecolor='black')\n",
    "plt.xlabel(\"Emotion_Disgust\")\n",
    "plt.ylabel('Frequency')\n",
    "plt.title(f\" Emotion_Disgust Histogram Frequency Chart\")\n",
    "plt.show"
   ]
  },
  {
   "cell_type": "code",
   "execution_count": 12,
   "metadata": {},
   "outputs": [
    {
     "data": {
      "text/plain": [
       "<function matplotlib.pyplot.show(*args, **kw)>"
      ]
     },
     "execution_count": 12,
     "metadata": {},
     "output_type": "execute_result"
    },
    {
     "data": {
      "image/png": "[encoded data removed]",
      "text/plain": [
       "<Figure size 432x288 with 1 Axes>"
      ]
     },
     "metadata": {},
     "output_type": "display_data"
    }
   ],
   "source": [
    "x = df_norm['Emotion_Fear']\n",
    "plt.hist(x, bins=20, edgecolor='black')\n",
    "plt.xlabel(\"Emotion_Fear\")\n",
    "plt.ylabel('Frequency')\n",
    "plt.title(f\" Emotion_Fear Histogram Frequency Chart\")\n",
    "plt.show"
   ]
  },
  {
   "cell_type": "code",
   "execution_count": 13,
   "metadata": {},
   "outputs": [
    {
     "data": {
      "text/plain": [
       "<function matplotlib.pyplot.show(*args, **kw)>"
      ]
     },
     "execution_count": 13,
     "metadata": {},
     "output_type": "execute_result"
    },
    {
     "data": {
      "image/png": "[encoded data removed]",
      "text/plain": [
       "<Figure size 432x288 with 1 Axes>"
      ]
     },
     "metadata": {},
     "output_type": "display_data"
    }
   ],
   "source": [
    "x = df_norm['Emotion_Surprise']\n",
    "plt.hist(x, bins=20, edgecolor='black')\n",
    "plt.xlabel(\"Emotion_Surprise\")\n",
    "plt.ylabel('Frequency')\n",
    "plt.title(f\" Emotion_Surprise Histogram Frequency Chart\")\n",
    "plt.show"
   ]
  },
  {
   "cell_type": "code",
   "execution_count": 14,
   "metadata": {},
   "outputs": [
    {
     "data": {
      "text/plain": [
       "<function matplotlib.pyplot.show(*args, **kw)>"
      ]
     },
     "execution_count": 14,
     "metadata": {},
     "output_type": "execute_result"
    },
    {
     "data": {
      "image/png": "[encoded data removed]",
      "text/plain": [
       "<Figure size 432x288 with 1 Axes>"
      ]
     },
     "metadata": {},
     "output_type": "display_data"
    }
   ],
   "source": [
    "x = df_norm['Emotion_Contempt']\n",
    "plt.hist(x, bins=20, edgecolor='black')\n",
    "plt.xlabel(\"Emotion_Contempt\")\n",
    "plt.ylabel('Frequency')\n",
    "plt.title(f\" Emotion_Contempt Histogram Frequency Chart\")\n",
    "plt.show"
   ]
  },
  {
   "cell_type": "code",
   "execution_count": 15,
   "metadata": {},
   "outputs": [
    {
     "data": {
      "text/plain": [
       "<function matplotlib.pyplot.show(*args, **kw)>"
      ]
     },
     "execution_count": 15,
     "metadata": {},
     "output_type": "execute_result"
    },
    {
     "data": {
      "image/png": "[encoded data removed]",
      "text/plain": [
       "<Figure size 432x288 with 1 Axes>"
      ]
     },
     "metadata": {},
     "output_type": "display_data"
    }
   ],
   "source": [
    "x = df_norm['Emotion_Neutral']\n",
    "plt.hist(x, bins=20, edgecolor='black')\n",
    "plt.xlabel(\"Emotion_Neutral\")\n",
    "plt.ylabel('Frequency')\n",
    "plt.title(f\" Emotion_Neutral Histogram Frequency Chart\")\n",
    "plt.show"
   ]
  },
  {
   "cell_type": "markdown",
   "metadata": {},
   "source": [
    "# Preprocessing"
   ]
  },
  {
   "cell_type": "markdown",
   "metadata": {},
   "source": [
    "## Preprocessing - Label Encoding"
   ]
  },
  {
   "cell_type": "code",
   "execution_count": 16,
   "metadata": {},
   "outputs": [
    {
     "data": {
      "text/html": [
       "<div>\n",
       "<style scoped>\n",
       "    .dataframe tbody tr th:only-of-type {\n",
       "        vertical-align: middle;\n",
       "    }\n",
       "\n",
       "    .dataframe tbody tr th {\n",
       "        vertical-align: top;\n",
       "    }\n",
       "\n",
       "    .dataframe thead th {\n",
       "        text-align: right;\n",
       "    }\n",
       "</style>\n",
       "<table border=\"1\" class=\"dataframe\">\n",
       "  <thead>\n",
       "    <tr style=\"text-align: right;\">\n",
       "      <th></th>\n",
       "      <th>Gender</th>\n",
       "      <th>Emotion_Joy</th>\n",
       "      <th>Emotion_Sadness</th>\n",
       "      <th>Emotion_Anger</th>\n",
       "      <th>Emotion_Disgust</th>\n",
       "      <th>Emotion_Fear</th>\n",
       "      <th>Emotion_Surprise</th>\n",
       "      <th>Emotion_Contempt</th>\n",
       "      <th>Emotion_Neutral</th>\n",
       "      <th>Depression</th>\n",
       "    </tr>\n",
       "  </thead>\n",
       "  <tbody>\n",
       "    <tr>\n",
       "      <th>0</th>\n",
       "      <td>0</td>\n",
       "      <td>4.00</td>\n",
       "      <td>3.0</td>\n",
       "      <td>2.0</td>\n",
       "      <td>1.0</td>\n",
       "      <td>0.00</td>\n",
       "      <td>2.00</td>\n",
       "      <td>2.0</td>\n",
       "      <td>1.0</td>\n",
       "      <td>0</td>\n",
       "    </tr>\n",
       "    <tr>\n",
       "      <th>1</th>\n",
       "      <td>0</td>\n",
       "      <td>8.00</td>\n",
       "      <td>0.0</td>\n",
       "      <td>2.0</td>\n",
       "      <td>0.0</td>\n",
       "      <td>1.00</td>\n",
       "      <td>0.00</td>\n",
       "      <td>0.0</td>\n",
       "      <td>4.0</td>\n",
       "      <td>0</td>\n",
       "    </tr>\n",
       "    <tr>\n",
       "      <th>2</th>\n",
       "      <td>1</td>\n",
       "      <td>1.67</td>\n",
       "      <td>0.0</td>\n",
       "      <td>0.0</td>\n",
       "      <td>0.0</td>\n",
       "      <td>6.17</td>\n",
       "      <td>0.67</td>\n",
       "      <td>0.0</td>\n",
       "      <td>6.5</td>\n",
       "      <td>0</td>\n",
       "    </tr>\n",
       "    <tr>\n",
       "      <th>3</th>\n",
       "      <td>1</td>\n",
       "      <td>7.00</td>\n",
       "      <td>0.0</td>\n",
       "      <td>3.0</td>\n",
       "      <td>0.0</td>\n",
       "      <td>0.00</td>\n",
       "      <td>5.00</td>\n",
       "      <td>0.0</td>\n",
       "      <td>0.0</td>\n",
       "      <td>0</td>\n",
       "    </tr>\n",
       "    <tr>\n",
       "      <th>4</th>\n",
       "      <td>1</td>\n",
       "      <td>3.00</td>\n",
       "      <td>2.0</td>\n",
       "      <td>1.0</td>\n",
       "      <td>0.0</td>\n",
       "      <td>2.00</td>\n",
       "      <td>1.00</td>\n",
       "      <td>0.0</td>\n",
       "      <td>6.0</td>\n",
       "      <td>1</td>\n",
       "    </tr>\n",
       "  </tbody>\n",
       "</table>\n",
       "</div>"
      ],
      "text/plain": [
       "   Gender  Emotion_Joy  Emotion_Sadness  Emotion_Anger  Emotion_Disgust  \\\n",
       "0       0         4.00              3.0            2.0              1.0   \n",
       "1       0         8.00              0.0            2.0              0.0   \n",
       "2       1         1.67              0.0            0.0              0.0   \n",
       "3       1         7.00              0.0            3.0              0.0   \n",
       "4       1         3.00              2.0            1.0              0.0   \n",
       "\n",
       "   Emotion_Fear  Emotion_Surprise  Emotion_Contempt  Emotion_Neutral  \\\n",
       "0          0.00              2.00               2.0              1.0   \n",
       "1          1.00              0.00               0.0              4.0   \n",
       "2          6.17              0.67               0.0              6.5   \n",
       "3          0.00              5.00               0.0              0.0   \n",
       "4          2.00              1.00               0.0              6.0   \n",
       "\n",
       "   Depression  \n",
       "0           0  \n",
       "1           0  \n",
       "2           0  \n",
       "3           0  \n",
       "4           1  "
      ]
     },
     "execution_count": 16,
     "metadata": {},
     "output_type": "execute_result"
    }
   ],
   "source": [
    "le = LabelEncoder()\n",
    "df_norm.Gender = le.fit_transform(df_norm.Gender)\n",
    "df_norm.Depression = le.fit_transform(df_norm.Depression)\n",
    "df_freq.Gender = le.fit_transform(df_freq.Gender)\n",
    "df_freq.Depression = le.fit_transform(df_freq.Depression)\n",
    "df_norm.head()"
   ]
  },
  {
   "cell_type": "markdown",
   "metadata": {},
   "source": [
    "## Preprocessing -  Balance Data by Random Over Sampling"
   ]
  },
  {
   "cell_type": "code",
   "execution_count": 17,
   "metadata": {},
   "outputs": [],
   "source": [
    "count_freq_class_0, count_freq_class_1 = df_freq.Depression.value_counts()\n",
    "count_norm_class_0, count_norm_class_1 = df_norm.Depression.value_counts()\n",
    "df_freq_class_0 = df_freq[df_freq['Depression'] == 0]\n",
    "df_freq_class_1 = df_freq[df_freq['Depression'] == 1]\n",
    "df_norm_class_0 = df_norm[df_norm['Depression'] == 0]\n",
    "df_norm_class_1 = df_norm[df_norm['Depression'] == 1]                                                            "
   ]
  },
  {
   "cell_type": "code",
   "execution_count": 18,
   "metadata": {},
   "outputs": [
    {
     "name": "stdout",
     "output_type": "stream",
     "text": [
      "(137, 10)\n",
      "(137, 10)\n",
      "(119, 10)\n",
      "(119, 10)\n"
     ]
    }
   ],
   "source": [
    "print(df_freq_class_0.shape)\n",
    "print(df_norm_class_0.shape)\n",
    "print(df_freq_class_1.shape)\n",
    "print(df_norm_class_1.shape)"
   ]
  },
  {
   "cell_type": "code",
   "execution_count": 19,
   "metadata": {},
   "outputs": [
    {
     "name": "stdout",
     "output_type": "stream",
     "text": [
      "(137, 10)\n",
      "(137, 10)\n"
     ]
    }
   ],
   "source": [
    "df_freq_class_1_over = df_freq_class_1.sample(count_freq_class_0, replace=True)\n",
    "df_norm_class_1_over = df_norm_class_1.sample(count_norm_class_0, replace=True)\n",
    "print(df_freq_class_1_over.shape)\n",
    "print(df_norm_class_1_over.shape)"
   ]
  },
  {
   "cell_type": "code",
   "execution_count": 20,
   "metadata": {},
   "outputs": [
    {
     "name": "stdout",
     "output_type": "stream",
     "text": [
      "(274, 10)\n",
      "(274, 10)\n",
      "1    137\n",
      "0    137\n",
      "Name: Depression, dtype: int64\n",
      "1    137\n",
      "0    137\n",
      "Name: Depression, dtype: int64\n"
     ]
    }
   ],
   "source": [
    "df_freq = pd.concat([df_freq_class_0,df_freq_class_1_over],axis=0)\n",
    "df_norm = pd.concat([df_norm_class_0,df_norm_class_1_over],axis=0)\n",
    "print(df_freq.shape)\n",
    "print(df_norm.shape)\n",
    "print(df_freq.Depression.value_counts())\n",
    "print(df_norm.Depression.value_counts())"
   ]
  },
  {
   "cell_type": "code",
   "execution_count": 21,
   "metadata": {},
   "outputs": [
    {
     "data": {
      "text/plain": [
       "<matplotlib.axes._subplots.AxesSubplot at 0x21cb12263c8>"
      ]
     },
     "execution_count": 21,
     "metadata": {},
     "output_type": "execute_result"
    },
    {
     "data": {
      "image/png": "[encoded data removed]",
      "text/plain": [
       "<Figure size 432x288 with 1 Axes>"
      ]
     },
     "metadata": {},
     "output_type": "display_data"
    }
   ],
   "source": [
    "df_freq.Depression.value_counts().plot(kind='bar', title='Freq-PHO-Binary Depression Distribution')"
   ]
  },
  {
   "cell_type": "code",
   "execution_count": 22,
   "metadata": {},
   "outputs": [
    {
     "data": {
      "text/plain": [
       "<matplotlib.axes._subplots.AxesSubplot at 0x21cb138e788>"
      ]
     },
     "execution_count": 22,
     "metadata": {},
     "output_type": "execute_result"
    },
    {
     "data": {
      "image/png": "[encoded data removed]",
      "text/plain": [
       "<Figure size 432x288 with 1 Axes>"
      ]
     },
     "metadata": {},
     "output_type": "display_data"
    }
   ],
   "source": [
    "df_norm.Depression.value_counts().plot(kind='bar', title='Norm-PHO-Binary Depression Distribution')"
   ]
  },
  {
   "cell_type": "markdown",
   "metadata": {},
   "source": [
    "## Preprocessing - One Hot Encoding"
   ]
  },
  {
   "cell_type": "code",
   "execution_count": 23,
   "metadata": {},
   "outputs": [
    {
     "data": {
      "text/html": [
       "<div>\n",
       "<style scoped>\n",
       "    .dataframe tbody tr th:only-of-type {\n",
       "        vertical-align: middle;\n",
       "    }\n",
       "\n",
       "    .dataframe tbody tr th {\n",
       "        vertical-align: top;\n",
       "    }\n",
       "\n",
       "    .dataframe thead th {\n",
       "        text-align: right;\n",
       "    }\n",
       "</style>\n",
       "<table border=\"1\" class=\"dataframe\">\n",
       "  <thead>\n",
       "    <tr style=\"text-align: right;\">\n",
       "      <th></th>\n",
       "      <th>Gender</th>\n",
       "      <th>Emotion_Joy</th>\n",
       "      <th>Emotion_Sadness</th>\n",
       "      <th>Emotion_Anger</th>\n",
       "      <th>Emotion_Disgust</th>\n",
       "      <th>Emotion_Fear</th>\n",
       "      <th>Emotion_Surprise</th>\n",
       "      <th>Emotion_Contempt</th>\n",
       "      <th>Emotion_Neutral</th>\n",
       "      <th>Depression</th>\n",
       "    </tr>\n",
       "  </thead>\n",
       "  <tbody>\n",
       "    <tr>\n",
       "      <th>0</th>\n",
       "      <td>0</td>\n",
       "      <td>4.00</td>\n",
       "      <td>3.0</td>\n",
       "      <td>2.0</td>\n",
       "      <td>1.0</td>\n",
       "      <td>0.00</td>\n",
       "      <td>2.00</td>\n",
       "      <td>2.0</td>\n",
       "      <td>1.0</td>\n",
       "      <td>0</td>\n",
       "    </tr>\n",
       "    <tr>\n",
       "      <th>1</th>\n",
       "      <td>0</td>\n",
       "      <td>8.00</td>\n",
       "      <td>0.0</td>\n",
       "      <td>2.0</td>\n",
       "      <td>0.0</td>\n",
       "      <td>1.00</td>\n",
       "      <td>0.00</td>\n",
       "      <td>0.0</td>\n",
       "      <td>4.0</td>\n",
       "      <td>0</td>\n",
       "    </tr>\n",
       "    <tr>\n",
       "      <th>2</th>\n",
       "      <td>1</td>\n",
       "      <td>1.67</td>\n",
       "      <td>0.0</td>\n",
       "      <td>0.0</td>\n",
       "      <td>0.0</td>\n",
       "      <td>6.17</td>\n",
       "      <td>0.67</td>\n",
       "      <td>0.0</td>\n",
       "      <td>6.5</td>\n",
       "      <td>0</td>\n",
       "    </tr>\n",
       "    <tr>\n",
       "      <th>3</th>\n",
       "      <td>1</td>\n",
       "      <td>7.00</td>\n",
       "      <td>0.0</td>\n",
       "      <td>3.0</td>\n",
       "      <td>0.0</td>\n",
       "      <td>0.00</td>\n",
       "      <td>5.00</td>\n",
       "      <td>0.0</td>\n",
       "      <td>0.0</td>\n",
       "      <td>0</td>\n",
       "    </tr>\n",
       "    <tr>\n",
       "      <th>5</th>\n",
       "      <td>0</td>\n",
       "      <td>11.50</td>\n",
       "      <td>0.5</td>\n",
       "      <td>0.5</td>\n",
       "      <td>0.0</td>\n",
       "      <td>0.00</td>\n",
       "      <td>0.50</td>\n",
       "      <td>0.5</td>\n",
       "      <td>1.5</td>\n",
       "      <td>0</td>\n",
       "    </tr>\n",
       "  </tbody>\n",
       "</table>\n",
       "</div>"
      ],
      "text/plain": [
       "   Gender  Emotion_Joy  Emotion_Sadness  Emotion_Anger  Emotion_Disgust  \\\n",
       "0       0         4.00              3.0            2.0              1.0   \n",
       "1       0         8.00              0.0            2.0              0.0   \n",
       "2       1         1.67              0.0            0.0              0.0   \n",
       "3       1         7.00              0.0            3.0              0.0   \n",
       "5       0        11.50              0.5            0.5              0.0   \n",
       "\n",
       "   Emotion_Fear  Emotion_Surprise  Emotion_Contempt  Emotion_Neutral  \\\n",
       "0          0.00              2.00               2.0              1.0   \n",
       "1          1.00              0.00               0.0              4.0   \n",
       "2          6.17              0.67               0.0              6.5   \n",
       "3          0.00              5.00               0.0              0.0   \n",
       "5          0.00              0.50               0.5              1.5   \n",
       "\n",
       "   Depression  \n",
       "0           0  \n",
       "1           0  \n",
       "2           0  \n",
       "3           0  \n",
       "5           0  "
      ]
     },
     "execution_count": 23,
     "metadata": {},
     "output_type": "execute_result"
    }
   ],
   "source": [
    "df_norm.head()"
   ]
  },
  {
   "cell_type": "code",
   "execution_count": 24,
   "metadata": {},
   "outputs": [
    {
     "data": {
      "text/html": [
       "<div>\n",
       "<style scoped>\n",
       "    .dataframe tbody tr th:only-of-type {\n",
       "        vertical-align: middle;\n",
       "    }\n",
       "\n",
       "    .dataframe tbody tr th {\n",
       "        vertical-align: top;\n",
       "    }\n",
       "\n",
       "    .dataframe thead th {\n",
       "        text-align: right;\n",
       "    }\n",
       "</style>\n",
       "<table border=\"1\" class=\"dataframe\">\n",
       "  <thead>\n",
       "    <tr style=\"text-align: right;\">\n",
       "      <th></th>\n",
       "      <th>Emotion_Joy</th>\n",
       "      <th>Emotion_Sadness</th>\n",
       "      <th>Emotion_Anger</th>\n",
       "      <th>Emotion_Disgust</th>\n",
       "      <th>Emotion_Fear</th>\n",
       "      <th>Emotion_Surprise</th>\n",
       "      <th>Emotion_Contempt</th>\n",
       "      <th>Emotion_Neutral</th>\n",
       "      <th>Depression</th>\n",
       "      <th>Gender_0</th>\n",
       "      <th>Gender_1</th>\n",
       "    </tr>\n",
       "  </thead>\n",
       "  <tbody>\n",
       "    <tr>\n",
       "      <th>0</th>\n",
       "      <td>4.00</td>\n",
       "      <td>3.0</td>\n",
       "      <td>2.0</td>\n",
       "      <td>1.0</td>\n",
       "      <td>0.00</td>\n",
       "      <td>2.00</td>\n",
       "      <td>2.0</td>\n",
       "      <td>1.0</td>\n",
       "      <td>0</td>\n",
       "      <td>1</td>\n",
       "      <td>0</td>\n",
       "    </tr>\n",
       "    <tr>\n",
       "      <th>1</th>\n",
       "      <td>8.00</td>\n",
       "      <td>0.0</td>\n",
       "      <td>2.0</td>\n",
       "      <td>0.0</td>\n",
       "      <td>1.00</td>\n",
       "      <td>0.00</td>\n",
       "      <td>0.0</td>\n",
       "      <td>4.0</td>\n",
       "      <td>0</td>\n",
       "      <td>1</td>\n",
       "      <td>0</td>\n",
       "    </tr>\n",
       "    <tr>\n",
       "      <th>2</th>\n",
       "      <td>1.67</td>\n",
       "      <td>0.0</td>\n",
       "      <td>0.0</td>\n",
       "      <td>0.0</td>\n",
       "      <td>6.17</td>\n",
       "      <td>0.67</td>\n",
       "      <td>0.0</td>\n",
       "      <td>6.5</td>\n",
       "      <td>0</td>\n",
       "      <td>0</td>\n",
       "      <td>1</td>\n",
       "    </tr>\n",
       "    <tr>\n",
       "      <th>3</th>\n",
       "      <td>7.00</td>\n",
       "      <td>0.0</td>\n",
       "      <td>3.0</td>\n",
       "      <td>0.0</td>\n",
       "      <td>0.00</td>\n",
       "      <td>5.00</td>\n",
       "      <td>0.0</td>\n",
       "      <td>0.0</td>\n",
       "      <td>0</td>\n",
       "      <td>0</td>\n",
       "      <td>1</td>\n",
       "    </tr>\n",
       "    <tr>\n",
       "      <th>5</th>\n",
       "      <td>11.50</td>\n",
       "      <td>0.5</td>\n",
       "      <td>0.5</td>\n",
       "      <td>0.0</td>\n",
       "      <td>0.00</td>\n",
       "      <td>0.50</td>\n",
       "      <td>0.5</td>\n",
       "      <td>1.5</td>\n",
       "      <td>0</td>\n",
       "      <td>1</td>\n",
       "      <td>0</td>\n",
       "    </tr>\n",
       "  </tbody>\n",
       "</table>\n",
       "</div>"
      ],
      "text/plain": [
       "   Emotion_Joy  Emotion_Sadness  Emotion_Anger  Emotion_Disgust  Emotion_Fear  \\\n",
       "0         4.00              3.0            2.0              1.0          0.00   \n",
       "1         8.00              0.0            2.0              0.0          1.00   \n",
       "2         1.67              0.0            0.0              0.0          6.17   \n",
       "3         7.00              0.0            3.0              0.0          0.00   \n",
       "5        11.50              0.5            0.5              0.0          0.00   \n",
       "\n",
       "   Emotion_Surprise  Emotion_Contempt  Emotion_Neutral  Depression  Gender_0  \\\n",
       "0              2.00               2.0              1.0           0         1   \n",
       "1              0.00               0.0              4.0           0         1   \n",
       "2              0.67               0.0              6.5           0         0   \n",
       "3              5.00               0.0              0.0           0         0   \n",
       "5              0.50               0.5              1.5           0         1   \n",
       "\n",
       "   Gender_1  \n",
       "0         0  \n",
       "1         0  \n",
       "2         1  \n",
       "3         1  \n",
       "5         0  "
      ]
     },
     "execution_count": 24,
     "metadata": {},
     "output_type": "execute_result"
    }
   ],
   "source": [
    "df_norm_enc = pd.get_dummies(df_norm, prefix = ['Gender'], columns = ['Gender'])\n",
    "df_norm_enc.head()"
   ]
  },
  {
   "cell_type": "code",
   "execution_count": 25,
   "metadata": {},
   "outputs": [
    {
     "data": {
      "text/html": [
       "<div>\n",
       "<style scoped>\n",
       "    .dataframe tbody tr th:only-of-type {\n",
       "        vertical-align: middle;\n",
       "    }\n",
       "\n",
       "    .dataframe tbody tr th {\n",
       "        vertical-align: top;\n",
       "    }\n",
       "\n",
       "    .dataframe thead th {\n",
       "        text-align: right;\n",
       "    }\n",
       "</style>\n",
       "<table border=\"1\" class=\"dataframe\">\n",
       "  <thead>\n",
       "    <tr style=\"text-align: right;\">\n",
       "      <th></th>\n",
       "      <th>Emotion_Joy</th>\n",
       "      <th>Emotion_Sadness</th>\n",
       "      <th>Emotion_Anger</th>\n",
       "      <th>Emotion_Disgust</th>\n",
       "      <th>Emotion_Fear</th>\n",
       "      <th>Emotion_Surprise</th>\n",
       "      <th>Emotion_Contempt</th>\n",
       "      <th>Emotion_Neutral</th>\n",
       "      <th>Depression</th>\n",
       "      <th>Gender_0</th>\n",
       "      <th>Gender_1</th>\n",
       "    </tr>\n",
       "  </thead>\n",
       "  <tbody>\n",
       "    <tr>\n",
       "      <th>0</th>\n",
       "      <td>4</td>\n",
       "      <td>3</td>\n",
       "      <td>2</td>\n",
       "      <td>1</td>\n",
       "      <td>0</td>\n",
       "      <td>2</td>\n",
       "      <td>2</td>\n",
       "      <td>1</td>\n",
       "      <td>0</td>\n",
       "      <td>1</td>\n",
       "      <td>0</td>\n",
       "    </tr>\n",
       "    <tr>\n",
       "      <th>1</th>\n",
       "      <td>8</td>\n",
       "      <td>0</td>\n",
       "      <td>2</td>\n",
       "      <td>0</td>\n",
       "      <td>1</td>\n",
       "      <td>0</td>\n",
       "      <td>0</td>\n",
       "      <td>4</td>\n",
       "      <td>0</td>\n",
       "      <td>1</td>\n",
       "      <td>0</td>\n",
       "    </tr>\n",
       "    <tr>\n",
       "      <th>2</th>\n",
       "      <td>5</td>\n",
       "      <td>0</td>\n",
       "      <td>0</td>\n",
       "      <td>0</td>\n",
       "      <td>14</td>\n",
       "      <td>2</td>\n",
       "      <td>0</td>\n",
       "      <td>15</td>\n",
       "      <td>0</td>\n",
       "      <td>0</td>\n",
       "      <td>1</td>\n",
       "    </tr>\n",
       "    <tr>\n",
       "      <th>3</th>\n",
       "      <td>7</td>\n",
       "      <td>0</td>\n",
       "      <td>3</td>\n",
       "      <td>0</td>\n",
       "      <td>0</td>\n",
       "      <td>5</td>\n",
       "      <td>0</td>\n",
       "      <td>0</td>\n",
       "      <td>0</td>\n",
       "      <td>0</td>\n",
       "      <td>1</td>\n",
       "    </tr>\n",
       "    <tr>\n",
       "      <th>5</th>\n",
       "      <td>23</td>\n",
       "      <td>1</td>\n",
       "      <td>1</td>\n",
       "      <td>0</td>\n",
       "      <td>0</td>\n",
       "      <td>1</td>\n",
       "      <td>1</td>\n",
       "      <td>3</td>\n",
       "      <td>0</td>\n",
       "      <td>1</td>\n",
       "      <td>0</td>\n",
       "    </tr>\n",
       "  </tbody>\n",
       "</table>\n",
       "</div>"
      ],
      "text/plain": [
       "   Emotion_Joy  Emotion_Sadness  Emotion_Anger  Emotion_Disgust  Emotion_Fear  \\\n",
       "0            4                3              2                1             0   \n",
       "1            8                0              2                0             1   \n",
       "2            5                0              0                0            14   \n",
       "3            7                0              3                0             0   \n",
       "5           23                1              1                0             0   \n",
       "\n",
       "   Emotion_Surprise  Emotion_Contempt  Emotion_Neutral  Depression  Gender_0  \\\n",
       "0                 2                 2                1           0         1   \n",
       "1                 0                 0                4           0         1   \n",
       "2                 2                 0               15           0         0   \n",
       "3                 5                 0                0           0         0   \n",
       "5                 1                 1                3           0         1   \n",
       "\n",
       "   Gender_1  \n",
       "0         0  \n",
       "1         0  \n",
       "2         1  \n",
       "3         1  \n",
       "5         0  "
      ]
     },
     "execution_count": 25,
     "metadata": {},
     "output_type": "execute_result"
    }
   ],
   "source": [
    "df_freq_enc = pd.get_dummies(df_freq, prefix = ['Gender'], columns = ['Gender'])\n",
    "df_freq_enc.head()"
   ]
  },
  {
   "cell_type": "markdown",
   "metadata": {},
   "source": [
    "## Preprocessing - Separate Target and Features"
   ]
  },
  {
   "cell_type": "code",
   "execution_count": 26,
   "metadata": {},
   "outputs": [],
   "source": [
    "features_freq = df_freq_enc.drop('Depression', axis=1)\n",
    "target_freq = df_freq_enc.Depression\n",
    "features_norm = df_norm_enc.drop('Depression', axis=1)\n",
    "target_norm = df_norm_enc.Depression"
   ]
  },
  {
   "cell_type": "markdown",
   "metadata": {},
   "source": [
    "## Preprocessing - Normalisation"
   ]
  },
  {
   "cell_type": "code",
   "execution_count": 27,
   "metadata": {},
   "outputs": [
    {
     "data": {
      "text/html": [
       "<div>\n",
       "<style scoped>\n",
       "    .dataframe tbody tr th:only-of-type {\n",
       "        vertical-align: middle;\n",
       "    }\n",
       "\n",
       "    .dataframe tbody tr th {\n",
       "        vertical-align: top;\n",
       "    }\n",
       "\n",
       "    .dataframe thead th {\n",
       "        text-align: right;\n",
       "    }\n",
       "</style>\n",
       "<table border=\"1\" class=\"dataframe\">\n",
       "  <thead>\n",
       "    <tr style=\"text-align: right;\">\n",
       "      <th></th>\n",
       "      <th>Emotion_Joy</th>\n",
       "      <th>Emotion_Sadness</th>\n",
       "      <th>Emotion_Anger</th>\n",
       "      <th>Emotion_Disgust</th>\n",
       "      <th>Emotion_Fear</th>\n",
       "      <th>Emotion_Surprise</th>\n",
       "      <th>Emotion_Contempt</th>\n",
       "      <th>Emotion_Neutral</th>\n",
       "      <th>Gender_0</th>\n",
       "      <th>Gender_1</th>\n",
       "    </tr>\n",
       "  </thead>\n",
       "  <tbody>\n",
       "    <tr>\n",
       "      <th>0</th>\n",
       "      <td>0.632456</td>\n",
       "      <td>0.474342</td>\n",
       "      <td>0.316228</td>\n",
       "      <td>0.158114</td>\n",
       "      <td>0.000000</td>\n",
       "      <td>0.316228</td>\n",
       "      <td>0.316228</td>\n",
       "      <td>0.158114</td>\n",
       "      <td>0.158114</td>\n",
       "      <td>0.000000</td>\n",
       "    </tr>\n",
       "    <tr>\n",
       "      <th>1</th>\n",
       "      <td>0.862662</td>\n",
       "      <td>0.000000</td>\n",
       "      <td>0.215666</td>\n",
       "      <td>0.000000</td>\n",
       "      <td>0.107833</td>\n",
       "      <td>0.000000</td>\n",
       "      <td>0.000000</td>\n",
       "      <td>0.431331</td>\n",
       "      <td>0.107833</td>\n",
       "      <td>0.000000</td>\n",
       "    </tr>\n",
       "    <tr>\n",
       "      <th>2</th>\n",
       "      <td>0.235441</td>\n",
       "      <td>0.000000</td>\n",
       "      <td>0.000000</td>\n",
       "      <td>0.000000</td>\n",
       "      <td>0.659234</td>\n",
       "      <td>0.094176</td>\n",
       "      <td>0.000000</td>\n",
       "      <td>0.706322</td>\n",
       "      <td>0.000000</td>\n",
       "      <td>0.047088</td>\n",
       "    </tr>\n",
       "    <tr>\n",
       "      <th>3</th>\n",
       "      <td>0.763763</td>\n",
       "      <td>0.000000</td>\n",
       "      <td>0.327327</td>\n",
       "      <td>0.000000</td>\n",
       "      <td>0.000000</td>\n",
       "      <td>0.545545</td>\n",
       "      <td>0.000000</td>\n",
       "      <td>0.000000</td>\n",
       "      <td>0.000000</td>\n",
       "      <td>0.109109</td>\n",
       "    </tr>\n",
       "    <tr>\n",
       "      <th>4</th>\n",
       "      <td>0.987024</td>\n",
       "      <td>0.042914</td>\n",
       "      <td>0.042914</td>\n",
       "      <td>0.000000</td>\n",
       "      <td>0.000000</td>\n",
       "      <td>0.042914</td>\n",
       "      <td>0.042914</td>\n",
       "      <td>0.128742</td>\n",
       "      <td>0.042914</td>\n",
       "      <td>0.000000</td>\n",
       "    </tr>\n",
       "  </tbody>\n",
       "</table>\n",
       "</div>"
      ],
      "text/plain": [
       "   Emotion_Joy  Emotion_Sadness  Emotion_Anger  Emotion_Disgust  Emotion_Fear  \\\n",
       "0     0.632456         0.474342       0.316228         0.158114      0.000000   \n",
       "1     0.862662         0.000000       0.215666         0.000000      0.107833   \n",
       "2     0.235441         0.000000       0.000000         0.000000      0.659234   \n",
       "3     0.763763         0.000000       0.327327         0.000000      0.000000   \n",
       "4     0.987024         0.042914       0.042914         0.000000      0.000000   \n",
       "\n",
       "   Emotion_Surprise  Emotion_Contempt  Emotion_Neutral  Gender_0  Gender_1  \n",
       "0          0.316228          0.316228         0.158114  0.158114  0.000000  \n",
       "1          0.000000          0.000000         0.431331  0.107833  0.000000  \n",
       "2          0.094176          0.000000         0.706322  0.000000  0.047088  \n",
       "3          0.545545          0.000000         0.000000  0.000000  0.109109  \n",
       "4          0.042914          0.042914         0.128742  0.042914  0.000000  "
      ]
     },
     "execution_count": 27,
     "metadata": {},
     "output_type": "execute_result"
    }
   ],
   "source": [
    "from sklearn import preprocessing\n",
    "\n",
    "df = preprocessing.normalize(features_freq)\n",
    "names = features_freq.columns\n",
    "features_freq = pd.DataFrame(df, columns=names)\n",
    "features_freq.head()"
   ]
  },
  {
   "cell_type": "code",
   "execution_count": 28,
   "metadata": {},
   "outputs": [
    {
     "data": {
      "text/html": [
       "<div>\n",
       "<style scoped>\n",
       "    .dataframe tbody tr th:only-of-type {\n",
       "        vertical-align: middle;\n",
       "    }\n",
       "\n",
       "    .dataframe tbody tr th {\n",
       "        vertical-align: top;\n",
       "    }\n",
       "\n",
       "    .dataframe thead th {\n",
       "        text-align: right;\n",
       "    }\n",
       "</style>\n",
       "<table border=\"1\" class=\"dataframe\">\n",
       "  <thead>\n",
       "    <tr style=\"text-align: right;\">\n",
       "      <th></th>\n",
       "      <th>Emotion_Joy</th>\n",
       "      <th>Emotion_Sadness</th>\n",
       "      <th>Emotion_Anger</th>\n",
       "      <th>Emotion_Disgust</th>\n",
       "      <th>Emotion_Fear</th>\n",
       "      <th>Emotion_Surprise</th>\n",
       "      <th>Emotion_Contempt</th>\n",
       "      <th>Emotion_Neutral</th>\n",
       "      <th>Gender_0</th>\n",
       "      <th>Gender_1</th>\n",
       "    </tr>\n",
       "  </thead>\n",
       "  <tbody>\n",
       "    <tr>\n",
       "      <th>0</th>\n",
       "      <td>0.632456</td>\n",
       "      <td>0.474342</td>\n",
       "      <td>0.316228</td>\n",
       "      <td>0.158114</td>\n",
       "      <td>0.000000</td>\n",
       "      <td>0.316228</td>\n",
       "      <td>0.316228</td>\n",
       "      <td>0.158114</td>\n",
       "      <td>0.158114</td>\n",
       "      <td>0.000000</td>\n",
       "    </tr>\n",
       "    <tr>\n",
       "      <th>1</th>\n",
       "      <td>0.862662</td>\n",
       "      <td>0.000000</td>\n",
       "      <td>0.215666</td>\n",
       "      <td>0.000000</td>\n",
       "      <td>0.107833</td>\n",
       "      <td>0.000000</td>\n",
       "      <td>0.000000</td>\n",
       "      <td>0.431331</td>\n",
       "      <td>0.107833</td>\n",
       "      <td>0.000000</td>\n",
       "    </tr>\n",
       "    <tr>\n",
       "      <th>2</th>\n",
       "      <td>0.181611</td>\n",
       "      <td>0.000000</td>\n",
       "      <td>0.000000</td>\n",
       "      <td>0.000000</td>\n",
       "      <td>0.670982</td>\n",
       "      <td>0.072862</td>\n",
       "      <td>0.000000</td>\n",
       "      <td>0.706870</td>\n",
       "      <td>0.000000</td>\n",
       "      <td>0.108749</td>\n",
       "    </tr>\n",
       "    <tr>\n",
       "      <th>3</th>\n",
       "      <td>0.763763</td>\n",
       "      <td>0.000000</td>\n",
       "      <td>0.327327</td>\n",
       "      <td>0.000000</td>\n",
       "      <td>0.000000</td>\n",
       "      <td>0.545545</td>\n",
       "      <td>0.000000</td>\n",
       "      <td>0.000000</td>\n",
       "      <td>0.000000</td>\n",
       "      <td>0.109109</td>\n",
       "    </tr>\n",
       "    <tr>\n",
       "      <th>4</th>\n",
       "      <td>0.984309</td>\n",
       "      <td>0.042796</td>\n",
       "      <td>0.042796</td>\n",
       "      <td>0.000000</td>\n",
       "      <td>0.000000</td>\n",
       "      <td>0.042796</td>\n",
       "      <td>0.042796</td>\n",
       "      <td>0.128388</td>\n",
       "      <td>0.085592</td>\n",
       "      <td>0.000000</td>\n",
       "    </tr>\n",
       "  </tbody>\n",
       "</table>\n",
       "</div>"
      ],
      "text/plain": [
       "   Emotion_Joy  Emotion_Sadness  Emotion_Anger  Emotion_Disgust  Emotion_Fear  \\\n",
       "0     0.632456         0.474342       0.316228         0.158114      0.000000   \n",
       "1     0.862662         0.000000       0.215666         0.000000      0.107833   \n",
       "2     0.181611         0.000000       0.000000         0.000000      0.670982   \n",
       "3     0.763763         0.000000       0.327327         0.000000      0.000000   \n",
       "4     0.984309         0.042796       0.042796         0.000000      0.000000   \n",
       "\n",
       "   Emotion_Surprise  Emotion_Contempt  Emotion_Neutral  Gender_0  Gender_1  \n",
       "0          0.316228          0.316228         0.158114  0.158114  0.000000  \n",
       "1          0.000000          0.000000         0.431331  0.107833  0.000000  \n",
       "2          0.072862          0.000000         0.706870  0.000000  0.108749  \n",
       "3          0.545545          0.000000         0.000000  0.000000  0.109109  \n",
       "4          0.042796          0.042796         0.128388  0.085592  0.000000  "
      ]
     },
     "execution_count": 28,
     "metadata": {},
     "output_type": "execute_result"
    }
   ],
   "source": [
    "d = preprocessing.normalize(features_norm)\n",
    "names = features_norm.columns\n",
    "features_norm = pd.DataFrame(d, columns=names)\n",
    "features_norm.head()"
   ]
  },
  {
   "cell_type": "markdown",
   "metadata": {},
   "source": [
    "# Modelling - Baseline"
   ]
  },
  {
   "cell_type": "code",
   "execution_count": 29,
   "metadata": {},
   "outputs": [],
   "source": [
    "scoring = ['accuracy','precision_weighted', 'recall_weighted', 'f1_weighted']"
   ]
  },
  {
   "cell_type": "code",
   "execution_count": 30,
   "metadata": {},
   "outputs": [
    {
     "name": "stdout",
     "output_type": "stream",
     "text": [
      "Freq-PHO-Binary - Dummy - accuracy : 0.5402693602693602\n",
      "Freq-PHO-Binary - Dummy - precision_weighted : 0.4853531630334138\n",
      "Freq-PHO-Binary - Dummy - recall_weighted : 0.5366329966329966\n",
      "Freq-PHO-Binary - Dummy - f1_weighted : 0.4397991562381153\n"
     ]
    }
   ],
   "source": [
    "dummy_clf = DummyClassifier(strategy=\"uniform\")\n",
    "for score_dummy in scoring:\n",
    "    scoredummy = cross_val_score(dummy_clf, features_freq, target_freq, cv=5,scoring = score_dummy)\n",
    "    print(f\"Freq-PHO-Binary - Dummy - {str(score_dummy)} : {scoredummy.mean()}\")"
   ]
  },
  {
   "cell_type": "code",
   "execution_count": 31,
   "metadata": {},
   "outputs": [
    {
     "name": "stdout",
     "output_type": "stream",
     "text": [
      "Norm-PHO-Binary - Dummy - accuracy : 0.5180471380471381\n",
      "Norm-PHO-Binary - Dummy - precision_weighted : 0.508158611873851\n",
      "Norm-PHO-Binary - Dummy - recall_weighted : 0.5042424242424242\n",
      "Norm-PHO-Binary - Dummy - f1_weighted : 0.4554367012298046\n"
     ]
    }
   ],
   "source": [
    "for score_dummy in scoring:\n",
    "    scoredummy = cross_val_score(dummy_clf, features_norm, target_norm, cv=5,scoring = score_dummy)\n",
    "    print(f\"Norm-PHO-Binary - Dummy - {str(score_dummy)} : {scoredummy.mean()}\")"
   ]
  },
  {
   "cell_type": "markdown",
   "metadata": {},
   "source": [
    "# Modelling - Support Vector Machine"
   ]
  },
  {
   "cell_type": "code",
   "execution_count": 32,
   "metadata": {},
   "outputs": [],
   "source": [
    "models = [SVC(kernel='linear'), SVC(kernel='poly'), SVC(kernel='rbf'), SVC(kernel='sigmoid')]"
   ]
  },
  {
   "cell_type": "code",
   "execution_count": 33,
   "metadata": {},
   "outputs": [
    {
     "name": "stdout",
     "output_type": "stream",
     "text": [
      "SVC(C=1.0, break_ties=False, cache_size=200, class_weight=None, coef0=0.0,\n",
      "    decision_function_shape='ovr', degree=3, gamma='scale', kernel='linear',\n",
      "    max_iter=-1, probability=False, random_state=None, shrinking=True,\n",
      "    tol=0.001, verbose=False) - {'C': 0.05}\n",
      "0.5222895622895622\n",
      "\n",
      "SVC(C=1.0, break_ties=False, cache_size=200, class_weight=None, coef0=0.0,\n",
      "    decision_function_shape='ovr', degree=3, gamma='scale', kernel='poly',\n",
      "    max_iter=-1, probability=False, random_state=None, shrinking=True,\n",
      "    tol=0.001, verbose=False) - {'C': 100, 'degree': 5, 'gamma': 'scale'}\n",
      "0.7265319865319866\n",
      "\n",
      "SVC(C=1.0, break_ties=False, cache_size=200, class_weight=None, coef0=0.0,\n",
      "    decision_function_shape='ovr', degree=3, gamma='scale', kernel='rbf',\n",
      "    max_iter=-1, probability=False, random_state=None, shrinking=True,\n",
      "    tol=0.001, verbose=False) - {'C': 1, 'gamma': 'scale', 'kernel': 'rbf'}\n",
      "0.6281481481481481\n",
      "\n",
      "SVC(C=1.0, break_ties=False, cache_size=200, class_weight=None, coef0=0.0,\n",
      "    decision_function_shape='ovr', degree=3, gamma='scale', kernel='sigmoid',\n",
      "    max_iter=-1, probability=False, random_state=None, shrinking=True,\n",
      "    tol=0.001, verbose=False) - {'C': 0.3, 'gamma': 'scale'}\n",
      "0.5803367003367003\n",
      "\n"
     ]
    }
   ],
   "source": [
    "for model in models:\n",
    "    if model == models[0]:\n",
    "        param_grid = {'C': [0.01,0.0125,0.02,0.03,0.04,0.05 ]}\n",
    "    elif model == models[1]:\n",
    "        param_grid = {'C': [0.01,0.1,1, 10, 25, 50,100, 1000,10000], 'degree': [2, 3, 4, 5], 'gamma': ['scale','auto']}\n",
    "    elif model == models[2]:\n",
    "        param_grid = {'C': [0.5,0.75,1, 1.25,1.5,1.75,2],'gamma': ['scale','auto'],'kernel': ['rbf']}\n",
    "    else:\n",
    "        param_grid = {'C': [0.1,0.125,0.2,0.3,0.4 ], 'gamma': ['scale','auto']}\n",
    "    grid_search = GridSearchCV(model, param_grid, cv=5, scoring='recall_weighted', n_jobs=-1)\n",
    "    grid_result = grid_search.fit(features_norm, target_norm)\n",
    "    print(str(model), '-', grid_result.best_params_)\n",
    "    print(grid_result.best_score_)\n",
    "    print('')"
   ]
  },
  {
   "cell_type": "code",
   "execution_count": 34,
   "metadata": {},
   "outputs": [
    {
     "name": "stdout",
     "output_type": "stream",
     "text": [
      "SVC(C=1.0, break_ties=False, cache_size=200, class_weight=None, coef0=0.0,\n",
      "    decision_function_shape='ovr', degree=3, gamma='scale', kernel='linear',\n",
      "    max_iter=-1, probability=False, random_state=None, shrinking=True,\n",
      "    tol=0.001, verbose=False) - {'C': 9000}\n",
      "0.5837037037037037\n",
      "\n",
      "SVC(C=1.0, break_ties=False, cache_size=200, class_weight=None, coef0=0.0,\n",
      "    decision_function_shape='ovr', degree=3, gamma='scale', kernel='poly',\n",
      "    max_iter=-1, probability=False, random_state=None, shrinking=True,\n",
      "    tol=0.001, verbose=False) - {'C': 78, 'degree': 5, 'gamma': 'scale'}\n",
      "0.7010774410774411\n",
      "\n",
      "SVC(C=1.0, break_ties=False, cache_size=200, class_weight=None, coef0=0.0,\n",
      "    decision_function_shape='ovr', degree=3, gamma='scale', kernel='rbf',\n",
      "    max_iter=-1, probability=False, random_state=None, shrinking=True,\n",
      "    tol=0.001, verbose=False) - {'C': 1025, 'gamma': 'scale', 'kernel': 'rbf'}\n",
      "0.6828956228956229\n",
      "\n",
      "SVC(C=1.0, break_ties=False, cache_size=200, class_weight=None, coef0=0.0,\n",
      "    decision_function_shape='ovr', degree=3, gamma='scale', kernel='sigmoid',\n",
      "    max_iter=-1, probability=False, random_state=None, shrinking=True,\n",
      "    tol=0.001, verbose=False) - {'C': 3000, 'gamma': 'auto'}\n",
      "0.6164309764309764\n",
      "\n"
     ]
    }
   ],
   "source": [
    "for model in models:\n",
    "    if model == models[0]:\n",
    "        param_grid = {'C': [9000,10000,20000]}\n",
    "    elif model == models[1]:\n",
    "        param_grid = {'C': [75,78,80,82,85,90], 'degree': [ 5,6,7,8,9,10], 'gamma': ['scale','auto']}\n",
    "    elif model == models[2]:\n",
    "        param_grid = {'C': [950,975, 1000,1025,1050], 'gamma': [1, 0.1, 0.01, 0.001, 0.0001],\n",
    "                      'gamma': ['scale','auto'],'kernel': ['rbf']}\n",
    "    else:\n",
    "        param_grid = {'C': [1200,1300,2000,3000], 'gamma': ['scale','auto']}\n",
    "    grid_search = GridSearchCV(model, param_grid, cv=5, scoring='recall_weighted', n_jobs=-1)\n",
    "    grid_result = grid_search.fit(features_freq, target_freq)\n",
    "    print(str(model), '-', grid_result.best_params_)\n",
    "    print(grid_result.best_score_)\n",
    "    print('')"
   ]
  },
  {
   "cell_type": "code",
   "execution_count": 55,
   "metadata": {},
   "outputs": [
    {
     "name": "stdout",
     "output_type": "stream",
     "text": [
      "Accuracy : 0.7010774410774411\n",
      "Precision_weighted : 0.7086670649367942\n",
      "Recall_weighted :0.7010774410774411\n",
      "f1_weighted :0.6981592374552903\n"
     ]
    }
   ],
   "source": [
    "svc_freq=SVC(kernel='poly', C=78, degree = 5, gamma= 'scale')\n",
    "accuracy = cross_val_score(svc_freq, features_freq, target_freq, cv=5,scoring = 'accuracy')\n",
    "precision_weighted = cross_val_score(svc_freq, features_freq, target_freq, cv=5,scoring = 'precision_weighted')\n",
    "recall_weighted = cross_val_score(svc_freq, features_freq, target_freq, cv=5,scoring = 'recall_weighted')\n",
    "f1_weighted = cross_val_score(svc_freq, features_freq, target_freq,cv=5, scoring = 'f1_weighted')\n",
    "print(f\"Accuracy : {accuracy.mean()}\")\n",
    "print(f\"Precision_weighted : {precision_weighted.mean()}\")\n",
    "print(f\"Recall_weighted :{recall_weighted.mean()}\")\n",
    "print(f\"f1_weighted :{f1_weighted.mean()}\")"
   ]
  },
  {
   "cell_type": "code",
   "execution_count": 54,
   "metadata": {},
   "outputs": [
    {
     "name": "stdout",
     "output_type": "stream",
     "text": [
      "Accuracy : 0.7265319865319866\n",
      "Precision_weighted : 0.737851996420637\n",
      "Recall_weighted :0.7265319865319866\n",
      "f1_weighted :0.7229098094285269\n"
     ]
    }
   ],
   "source": [
    "svc_norm=SVC(kernel='poly', C= 100, degree= 5, gamma= 'scale')\n",
    "accuracy = cross_val_score(svc_norm, features_norm, target_norm, cv=5,scoring = 'accuracy')\n",
    "precision_weighted = cross_val_score(svc_norm, features_norm, target_norm, cv=5,scoring = 'precision_weighted')\n",
    "recall_weighted = cross_val_score(svc_norm, features_norm, target_norm, cv=5,scoring = 'recall_weighted')\n",
    "f1_weighted = cross_val_score(svc_norm, features_norm, target_norm,cv=5, scoring = 'f1_weighted')\n",
    "print(f\"Accuracy : {accuracy.mean()}\")\n",
    "print(f\"Precision_weighted : {precision_weighted.mean()}\")\n",
    "print(f\"Recall_weighted :{recall_weighted.mean()}\")\n",
    "print(f\"f1_weighted :{f1_weighted.mean()}\")\n"
   ]
  },
  {
   "cell_type": "markdown",
   "metadata": {},
   "source": [
    "# Modelling - KNN"
   ]
  },
  {
   "cell_type": "code",
   "execution_count": 37,
   "metadata": {},
   "outputs": [
    {
     "name": "stdout",
     "output_type": "stream",
     "text": [
      "Accuracy (Validation) = 0.5731986531986533\n"
     ]
    }
   ],
   "source": [
    "# instantiate model\n",
    "knn = KNeighborsClassifier(n_neighbors=5)\n",
    "scores = cross_val_score(knn, features_freq, target_freq, cv=5, scoring='accuracy')\n",
    "print('Accuracy (Validation) =', scores.mean())     "
   ]
  },
  {
   "cell_type": "code",
   "execution_count": 61,
   "metadata": {},
   "outputs": [],
   "source": [
    "# define the parameter values that should be searched\n",
    "# for python 2, k_range = range(1, 31)\n",
    "k_range = list(range(1, 30))\n",
    "weight_options = [\"uniform\", \"distance\"]"
   ]
  },
  {
   "cell_type": "code",
   "execution_count": 62,
   "metadata": {},
   "outputs": [
    {
     "name": "stdout",
     "output_type": "stream",
     "text": [
      "{'n_neighbors': 18, 'weights': 'distance'}\n",
      "0.7044444444444445\n"
     ]
    }
   ],
   "source": [
    "# The param_grid specifies one grid should be explored\n",
    "param_grid = dict(n_neighbors = k_range, weights = weight_options)                                            \n",
    "# Fit on the dataset on all parameter combinations in param_grid\n",
    "# Retain the best combination\n",
    "grid_search_freq = GridSearchCV(knn, param_grid, cv = 5, scoring = 'recall_weighted')\n",
    "grid_search_freq.fit(features_freq, target_freq)\n",
    "print(grid_search_freq.best_params_)\n",
    "print(grid_search_freq.best_score_)"
   ]
  },
  {
   "cell_type": "code",
   "execution_count": 64,
   "metadata": {},
   "outputs": [
    {
     "name": "stdout",
     "output_type": "stream",
     "text": [
      "Freq-PHO-Binary - KNN - accuracy : 0.7044444444444445\n",
      "Freq-PHO-Binary - KNN - precision_weighted : 0.7263174563803855\n",
      "Freq-PHO-Binary - KNN - recall_weighted : 0.7044444444444445\n",
      "Freq-PHO-Binary - KNN - f1_weighted : 0.6966223177175644\n"
     ]
    }
   ],
   "source": [
    "knn_freq = KNeighborsClassifier(n_neighbors=18, weights = 'distance')\n",
    "for score_knn in scoring:\n",
    "    scoreknn = cross_val_score(knn_freq, features_freq, target_freq, cv=5,scoring = score_knn)\n",
    "    print(f\"Freq-PHO-Binary - KNN - {str(score_knn)} : {scoreknn.mean()}\")"
   ]
  },
  {
   "cell_type": "code",
   "execution_count": 65,
   "metadata": {},
   "outputs": [
    {
     "name": "stdout",
     "output_type": "stream",
     "text": [
      "{'n_neighbors': 1, 'weights': 'uniform'}\n",
      "0.7410101010101011\n"
     ]
    }
   ],
   "source": [
    "grid_search_norm = GridSearchCV(knn, param_grid, cv = 5, scoring = 'recall_weighted')\n",
    "grid_search_norm.fit(features_norm, target_norm)\n",
    "print(grid_search_norm.best_params_)\n",
    "print(grid_search_norm.best_score_)"
   ]
  },
  {
   "cell_type": "code",
   "execution_count": 66,
   "metadata": {},
   "outputs": [
    {
     "name": "stdout",
     "output_type": "stream",
     "text": [
      "Norm-PHO-Binary - KNN - accuracy : 0.7410101010101011\n",
      "Norm-PHO-Binary - KNN - precision_weighted : 0.75185124433734\n",
      "Norm-PHO-Binary - KNN - recall_weighted : 0.7410101010101011\n",
      "Norm-PHO-Binary - KNN - f1_weighted : 0.7389967708522046\n"
     ]
    }
   ],
   "source": [
    "knn_norm = KNeighborsClassifier(n_neighbors=1, weights = 'uniform')\n",
    "for score_knn in scoring:\n",
    "    scoreknn = cross_val_score(knn_norm, features_norm, target_norm, cv=5,scoring = score_knn)\n",
    "    print(f\"Norm-PHO-Binary - KNN - {str(score_knn)} : {scoreknn.mean()}\")"
   ]
  },
  {
   "cell_type": "markdown",
   "metadata": {},
   "source": [
    "# Modelling - Decision Tree Classifier"
   ]
  },
  {
   "cell_type": "code",
   "execution_count": 43,
   "metadata": {},
   "outputs": [],
   "source": [
    "dtc = DecisionTreeClassifier(min_samples_split=2, random_state=0)\n",
    "# Define the parameter values that should be searched\n",
    "sample_split_range = list(range(2, 10))\n",
    "criterion_options = ['gini', 'entropy']\n",
    "max_depth_options = list(range(2, 50))\n",
    "num_leafs = [1, 5, 10, 20, 50]"
   ]
  },
  {
   "cell_type": "code",
   "execution_count": 44,
   "metadata": {},
   "outputs": [
    {
     "name": "stdout",
     "output_type": "stream",
     "text": [
      "Freq-PHO-Binary\n",
      "{'criterion': 'gini', 'max_depth': 11, 'min_samples_leaf': 1, 'min_samples_split': 2}\n",
      "accuracy\n",
      "0.678989898989899\n",
      "Freq-PHO-Binary\n",
      "{'criterion': 'gini', 'max_depth': 11, 'min_samples_leaf': 1, 'min_samples_split': 2}\n",
      "precision_weighted\n",
      "0.6810156347205584\n",
      "Freq-PHO-Binary\n",
      "{'criterion': 'gini', 'max_depth': 11, 'min_samples_leaf': 1, 'min_samples_split': 2}\n",
      "recall_weighted\n",
      "0.678989898989899\n",
      "Freq-PHO-Binary\n",
      "{'criterion': 'gini', 'max_depth': 11, 'min_samples_leaf': 1, 'min_samples_split': 2}\n",
      "f1_weighted\n",
      "0.6762416356130003\n"
     ]
    }
   ],
   "source": [
    "param_grid = dict(min_samples_split=sample_split_range, \n",
    "                  criterion = criterion_options, max_depth = max_depth_options,\n",
    "                 min_samples_leaf = num_leafs)\n",
    "for score in scoring:\n",
    "    grid_freq = GridSearchCV(dtc, param_grid, cv=5, scoring=score)\n",
    "    grid_freq.fit(features_freq, target_freq)\n",
    "    print(\"Freq-PHO-Binary\")\n",
    "    print(grid_freq.best_params_)\n",
    "    print(str(score))\n",
    "    print(grid_freq.best_score_)\n"
   ]
  },
  {
   "cell_type": "code",
   "execution_count": 58,
   "metadata": {},
   "outputs": [
    {
     "name": "stdout",
     "output_type": "stream",
     "text": [
      "Freq-PHO-Binary - DTC - accuracy : 0.678989898989899\n",
      "Freq-PHO-Binary - DTC - precision_weighted : 0.6810156347205584\n",
      "Freq-PHO-Binary - DTC - recall_weighted : 0.678989898989899\n",
      "Freq-PHO-Binary - DTC - f1_weighted : 0.6762416356130003\n"
     ]
    }
   ],
   "source": [
    "# due to our selected criteria is recall, therefore the recall optimised parameter is used\n",
    "dtc_freq = DecisionTreeClassifier(min_samples_split=2, criterion= 'gini', \n",
    "                                  max_depth= 11, min_samples_leaf= 1,random_state=0)\n",
    "for score_dtc in scoring:\n",
    "    scoredtc = cross_val_score(dtc_freq, features_freq, target_freq, cv=5,scoring = score_dtc)\n",
    "    print(f\"Freq-PHO-Binary - DTC - {str(score_dtc)} : {scoredtc.mean()}\")"
   ]
  },
  {
   "cell_type": "code",
   "execution_count": 47,
   "metadata": {},
   "outputs": [
    {
     "name": "stdout",
     "output_type": "stream",
     "text": [
      "Norm-PHO-Binary\n",
      "{'criterion': 'entropy', 'max_depth': 6, 'min_samples_leaf': 10, 'min_samples_split': 2}\n",
      "accuracy\n",
      "0.7521212121212122\n",
      "Norm-PHO-Binary\n",
      "{'criterion': 'entropy', 'max_depth': 6, 'min_samples_leaf': 10, 'min_samples_split': 2}\n",
      "precision_weighted\n",
      "0.7595577739075219\n",
      "Norm-PHO-Binary\n",
      "{'criterion': 'entropy', 'max_depth': 6, 'min_samples_leaf': 10, 'min_samples_split': 2}\n",
      "recall_weighted\n",
      "0.7521212121212122\n",
      "Norm-PHO-Binary\n",
      "{'criterion': 'entropy', 'max_depth': 6, 'min_samples_leaf': 10, 'min_samples_split': 2}\n",
      "f1_weighted\n",
      "0.750195063706399\n"
     ]
    }
   ],
   "source": [
    "for score in scoring:\n",
    "    grid_norm = GridSearchCV(dtc, param_grid, cv=5, scoring=score)\n",
    "    grid_norm.fit(features_norm, target_norm)\n",
    "    print(\"Norm-PHO-Binary\")    \n",
    "    print(grid_norm.best_params_)\n",
    "    print(str(score))\n",
    "    print(grid_norm.best_score_)"
   ]
  },
  {
   "cell_type": "code",
   "execution_count": 59,
   "metadata": {},
   "outputs": [
    {
     "name": "stdout",
     "output_type": "stream",
     "text": [
      "Norm-PHO-Binary - DTC - accuracy : 0.7521212121212122\n",
      "Norm-PHO-Binary - DTC - precision_weighted : 0.7595577739075219\n",
      "Norm-PHO-Binary - DTC - recall_weighted : 0.7521212121212122\n",
      "Norm-PHO-Binary - DTC - f1_weighted : 0.750195063706399\n"
     ]
    }
   ],
   "source": [
    "dtc_norm = DecisionTreeClassifier(min_samples_split=2, criterion= 'entropy', \n",
    "                                  max_depth= 6, min_samples_leaf= 10,random_state=0)\n",
    "for score_dtc in scoring:\n",
    "    scoredtc = cross_val_score(dtc_norm, features_norm, target_norm, cv=5,scoring = score_dtc)\n",
    "    print(f\"Norm-PHO-Binary - DTC - {str(score_dtc)} : {scoredtc.mean()}\")"
   ]
  },
  {
   "cell_type": "markdown",
   "metadata": {},
   "source": [
    "# Modelling - RandomForestClassifier"
   ]
  },
  {
   "cell_type": "code",
   "execution_count": 49,
   "metadata": {},
   "outputs": [
    {
     "data": {
      "text/plain": [
       "{'criterion': 'gini',\n",
       " 'max_depth': 8,\n",
       " 'max_features': 'auto',\n",
       " 'n_estimators': 200}"
      ]
     },
     "execution_count": 49,
     "metadata": {},
     "output_type": "execute_result"
    }
   ],
   "source": [
    "rfc=RandomForestClassifier(random_state=0)\n",
    "param_grid = { \n",
    "    'n_estimators': [200, 500],\n",
    "    'max_features': ['auto', 'sqrt', 'log2'],\n",
    "    'max_depth' : [4,5,6,7,8],\n",
    "    'criterion' :['gini', 'entropy']\n",
    "}\n",
    "\n",
    "CV_rfc_freq = GridSearchCV(estimator=rfc, param_grid=param_grid, cv= 5, scoring = 'recall_weighted')\n",
    "CV_rfc_freq.fit(features_freq, target_freq)\n",
    "CV_rfc_freq.best_params_"
   ]
  },
  {
   "cell_type": "code",
   "execution_count": 50,
   "metadata": {},
   "outputs": [
    {
     "name": "stdout",
     "output_type": "stream",
     "text": [
      "Freq-PHO-Binary - RFC - accuracy : 0.6899663299663299\n",
      "Freq-PHO-Binary - RFC - precision_weighted : 0.6960918240598992\n",
      "Freq-PHO-Binary - RFC - recall_weighted : 0.6899663299663299\n",
      "Freq-PHO-Binary - RFC - f1_weighted : 0.6873727361274458\n"
     ]
    }
   ],
   "source": [
    "CV_rfc_freq=RandomForestClassifier(random_state=0, max_features='auto', n_estimators= 200, \n",
    "                                   max_depth=8, criterion='gini')\n",
    "for score_rfc in scoring:\n",
    "    scorerfc = cross_val_score(CV_rfc_freq, features_freq, target_freq, cv=5,scoring = score_rfc)\n",
    "    print(f\"Freq-PHO-Binary - RFC - {str(score_rfc)} : {scorerfc.mean()}\")"
   ]
  },
  {
   "cell_type": "code",
   "execution_count": 51,
   "metadata": {},
   "outputs": [
    {
     "data": {
      "text/plain": [
       "{'criterion': 'entropy',\n",
       " 'max_depth': 8,\n",
       " 'max_features': 'auto',\n",
       " 'n_estimators': 500}"
      ]
     },
     "execution_count": 51,
     "metadata": {},
     "output_type": "execute_result"
    }
   ],
   "source": [
    "CV_rfc_norm = GridSearchCV(estimator=rfc, param_grid=param_grid, cv= 5, scoring = 'recall_weighted')\n",
    "CV_rfc_norm.fit(features_norm, target_norm)\n",
    "CV_rfc_norm.best_params_"
   ]
  },
  {
   "cell_type": "code",
   "execution_count": 60,
   "metadata": {},
   "outputs": [
    {
     "name": "stdout",
     "output_type": "stream",
     "text": [
      "Norm-PHO-Binary - RFC - accuracy : 0.7626936026936025\n",
      "Norm-PHO-Binary - RFC - precision_weighted : 0.7768103275642819\n",
      "Norm-PHO-Binary - RFC - recall_weighted : 0.7626936026936025\n",
      "Norm-PHO-Binary - RFC - f1_weighted : 0.758955455141478\n"
     ]
    }
   ],
   "source": [
    "CV_rfc_norm=RandomForestClassifier(random_state=0, max_features='auto', n_estimators= 500, \n",
    "                                   max_depth=8, criterion='entropy')\n",
    "for score_rfc in scoring:\n",
    "    scorerfc = cross_val_score(CV_rfc_norm, features_norm, target_norm, cv=5,scoring = score_rfc)\n",
    "    print(f\"Norm-PHO-Binary - RFC - {str(score_rfc)} : {scorerfc.mean()}\")"
   ]
  },
  {
   "cell_type": "markdown",
   "metadata": {},
   "source": [
    "# Save the best performing model"
   ]
  },
  {
   "cell_type": "code",
   "execution_count": 67,
   "metadata": {},
   "outputs": [],
   "source": [
    "# Import pickle\n",
    "import pickle\n",
    "# Specify the file name to save the model\n",
    "# Use filename='freq_model.sav' for Freq-PHO-Binary\n",
    "# Use filename='norm_model.sav' for Norm-PHO-Binary\n",
    "filename='norm_model.sav'\n",
    "# Open the file name in write mode. Pass the filename and model.\n",
    "# Replace modelname with the name of your model\n",
    "pickle.dump(CV_rfc_norm, open(filename, 'wb'))"
   ]
  }
 ],
 "metadata": {
  "kernelspec": {
   "display_name": "Python 3",
   "language": "python",
   "name": "python3"
  },
  "language_info": {
   "codemirror_mode": {
    "name": "ipython",
    "version": 3
   },
   "file_extension": ".py",
   "mimetype": "text/x-python",
   "name": "python",
   "nbconvert_exporter": "python",
   "pygments_lexer": "ipython3",
   "version": "3.7.6"
  }
 },
 "nbformat": 4,
 "nbformat_minor": 4
}
